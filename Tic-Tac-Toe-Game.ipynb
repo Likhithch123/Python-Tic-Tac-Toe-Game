{
 "cells": [
  {
   "cell_type": "markdown",
   "id": "7764e9bc",
   "metadata": {},
   "source": [
    "### TIC TAC TOE GAME"
   ]
  },
  {
   "cell_type": "code",
   "execution_count": 2,
   "id": "033e9a8e",
   "metadata": {},
   "outputs": [],
   "source": [
    "from IPython.display import clear_output\n",
    "def display_board(board):\n",
    "    clear_output()\n",
    "    print(board[7]+'|'+board[8]+'|'+board[9])\n",
    "    print(board[4]+'|'+board[5]+'|'+board[6])\n",
    "    print(board[1]+'|'+board[2]+'|'+board[3])"
   ]
  },
  {
   "cell_type": "code",
   "execution_count": 3,
   "id": "4a68cf8b",
   "metadata": {},
   "outputs": [],
   "source": [
    "def player_input():\n",
    "    \n",
    "    '''\n",
    "    output of this function is in the form of a tuple\n",
    "    i.e, (player1 choice, player2 choice)\n",
    "    '''\n",
    "    \n",
    "    marker1=''\n",
    "    while not (marker1=='X' or marker1=='O'):\n",
    "        marker1 = input(\"Player1 : choose X or O \").upper()\n",
    "        if marker1!='X' and marker1!='O':\n",
    "            print(\"Invalid choice.\")\n",
    "    if marker1=='X':\n",
    "        marker2='O'\n",
    "    else:\n",
    "        marker2='X'\n",
    "    return marker1,marker2"
   ]
  },
  {
   "cell_type": "code",
   "execution_count": 4,
   "id": "1bd674a5",
   "metadata": {},
   "outputs": [],
   "source": [
    "def place_marker(board,marker,position):\n",
    "    board[position]=marker"
   ]
  },
  {
   "cell_type": "code",
   "execution_count": 5,
   "id": "fb781a72",
   "metadata": {},
   "outputs": [],
   "source": [
    "def win_check(board,marker):\n",
    "    # win a tic tac toe game\n",
    "    return  (board[7]==board[8]==board[9]==marker) or (board[4]==board[5]==board[6]==marker) or (board[1]==board[2]==board[3]==marker) or (board[7]==board[4]==board[1]==marker) or(board[8]==board[5]==board[2]==marker) or (board[9]==board[6]==board[3]==marker) or(board[7]==board[5]==board[3]==marker) or (board[9]==board[5]==board[1]==marker)"
   ]
  },
  {
   "cell_type": "code",
   "execution_count": 6,
   "id": "ade1d0e2",
   "metadata": {},
   "outputs": [],
   "source": [
    "import random\n",
    "def choose_first():\n",
    "    flip=random.randint(0,1)\n",
    "    if flip==0:\n",
    "        return 'Player1'\n",
    "    else:\n",
    "        return 'Player2'"
   ]
  },
  {
   "cell_type": "code",
   "execution_count": 7,
   "id": "0661891e",
   "metadata": {},
   "outputs": [],
   "source": [
    "def space_check(board,position):\n",
    "    return board[position]==' '"
   ]
  },
  {
   "cell_type": "code",
   "execution_count": 8,
   "id": "9adb7e00",
   "metadata": {},
   "outputs": [],
   "source": [
    "def full_board_check(board):\n",
    "    for i in range(1,10):\n",
    "        if space_check(board,i):\n",
    "            return False\n",
    "    return True"
   ]
  },
  {
   "cell_type": "code",
   "execution_count": 9,
   "id": "2668f6ee",
   "metadata": {},
   "outputs": [],
   "source": [
    "def player_choice(board):\n",
    "    position=0\n",
    "    while position not in range(1,10) or not space_check(board,position):\n",
    "        position=int(input(\"Enter the position from 1-9:\"))\n",
    "    return position"
   ]
  },
  {
   "cell_type": "code",
   "execution_count": 10,
   "id": "b77c9d55",
   "metadata": {},
   "outputs": [],
   "source": [
    "def replay():\n",
    "    choice=input(\"Play again ? Enter Yes or No\")\n",
    "    return choice=='Yes'"
   ]
  },
  {
   "cell_type": "code",
   "execution_count": 11,
   "id": "ccd12aca",
   "metadata": {},
   "outputs": [
    {
     "name": "stdout",
     "output_type": "stream",
     "text": [
      "X|O|X\n",
      "O|X| \n",
      "X| |O\n",
      "Player1 has won the game.\n",
      "Play again ? Enter Yes or NoNo\n"
     ]
    }
   ],
   "source": [
    "print(\"Welcome to Tic Tac Toe !\")\n",
    "# while loop to keep running the game\n",
    "while True:\n",
    "    # play the game\n",
    "    # set everything up(board,who is first, choose marker x or o)\n",
    "    the_board=[' ']*10\n",
    "    player1_marker,player2_marker=player_input()\n",
    "    turn=choose_first()\n",
    "    print(turn+' will go first')\n",
    "    play_game=input(\"Ready to play? Yes or No \")\n",
    "    if play_game=='Yes':\n",
    "        game_on=True\n",
    "    else:\n",
    "        game_on=False\n",
    "    # game play\n",
    "    while game_on:\n",
    "        # player1 turn \n",
    "        if  turn=='Player1':\n",
    "            # show the board\n",
    "            display_board(the_board)\n",
    "            # choose a position\n",
    "            position=player_choice(the_board)\n",
    "            # place the marker on the position\n",
    "            place_marker(the_board,player1_marker,position)\n",
    "            # check if they won\n",
    "            if win_check(the_board,player1_marker):\n",
    "                display_board(the_board)\n",
    "                print(\"Player1 has won the game.\")\n",
    "                \n",
    "                #clear_output()\n",
    "                game_on=False\n",
    "            else:\n",
    "                if full_board_check(the_board):\n",
    "                    display_board(the_board)\n",
    "                    print(\"Its a tie game.\")\n",
    "                    game_on=False\n",
    "                else:\n",
    "                    turn='Player2'\n",
    "            # or check if there is a tie\n",
    "            \n",
    "            # no tie and no win ? then its next players turn\n",
    "        else:\n",
    "            # player2 turn \n",
    "            display_board(the_board)\n",
    "            # choose a position\n",
    "            position=player_choice(the_board)\n",
    "            # place the marker on the position\n",
    "            place_marker(the_board,player2_marker,position)\n",
    "            # check if they won\n",
    "            if win_check(the_board,player2_marker):\n",
    "                display_board(the_board)\n",
    "                print(\"Player2 has won the game.\")\n",
    "                #clear_output()\n",
    "                game_on=False\n",
    "            else:\n",
    "                if full_board_check(the_board):\n",
    "                    display_board(the_board)\n",
    "                    print(\"Its a tie game.\")\n",
    "                    game_on=False\n",
    "                else:\n",
    "                    turn='Player1'\n",
    "    \n",
    "    if not replay():\n",
    "        #clear_output()\n",
    "        break\n",
    "# break out of the while loop on replay()"
   ]
  }
 ],
 "metadata": {
  "kernelspec": {
   "display_name": "Python 3 (ipykernel)",
   "language": "python",
   "name": "python3"
  },
  "language_info": {
   "codemirror_mode": {
    "name": "ipython",
    "version": 3
   },
   "file_extension": ".py",
   "mimetype": "text/x-python",
   "name": "python",
   "nbconvert_exporter": "python",
   "pygments_lexer": "ipython3",
   "version": "3.9.7"
  }
 },
 "nbformat": 4,
 "nbformat_minor": 5
}
